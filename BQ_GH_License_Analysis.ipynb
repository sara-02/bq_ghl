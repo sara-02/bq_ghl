{
 "cells": [
  {
   "cell_type": "markdown",
   "metadata": {},
   "source": [
    "```\n",
    "-- SELECT COUNT(license), license from [bigquery-public-data:github_repos.licenses] GROUP BY license\n",
    "-- SELECT COUNT(DISTINCT license) from [bigquery-public-data:github_repos.licenses]\n",
    "-- SELECT COUNT(*) from [bigquery-public-data:github_repos.licenses]\n",
    "-- SELECT license , language.name from [bigquery-public-data:github_repos.licenses] li JOIN [bigquery-public-data:github_repos.languages] la on li.repo_name==la.repo_name \n",
    "-- SELECT COUNT(DISTINCT license) from [test_githubdata.la_li] \n",
    "-- SELECT COUNT(DISTINCT language_name ) from [test_githubdata.la_li]\n",
    "-- SELECT  language_name from [test_githubdata.la_li] GROUP BY language_name ORDER BY language_name \n",
    "-- SELECT COUNT(license)as aggregate_count, license, language_name  from [test_githubdata.la_li] WHERE language_name IN ('Objective-C', 'Python','PHP','C','C++','C#','Java','JavaScript','TypeScript', 'Scala', 'Swift','Go','Ruby', 'Shell') GROUP BY language_name, license\n",
    "```"
   ]
  },
  {
   "cell_type": "code",
   "execution_count": 1,
   "metadata": {},
   "outputs": [],
   "source": [
    "from __future__ import division\n",
    "import pandas as pd\n",
    "import matplotlib.pyplot as plt\n",
    "%matplotlib inline "
   ]
  },
  {
   "cell_type": "code",
   "execution_count": 2,
   "metadata": {},
   "outputs": [],
   "source": [
    "distinct_licenses = pd.read_csv(\"lincesne_distinct.csv\")"
   ]
  },
  {
   "cell_type": "code",
   "execution_count": 3,
   "metadata": {},
   "outputs": [
    {
     "data": {
      "text/html": [
       "<div>\n",
       "<style>\n",
       "    .dataframe thead tr:only-child th {\n",
       "        text-align: right;\n",
       "    }\n",
       "\n",
       "    .dataframe thead th {\n",
       "        text-align: left;\n",
       "    }\n",
       "\n",
       "    .dataframe tbody tr th {\n",
       "        vertical-align: top;\n",
       "    }\n",
       "</style>\n",
       "<table border=\"1\" class=\"dataframe\">\n",
       "  <thead>\n",
       "    <tr style=\"text-align: right;\">\n",
       "      <th></th>\n",
       "      <th>f0_</th>\n",
       "      <th>license</th>\n",
       "    </tr>\n",
       "  </thead>\n",
       "  <tbody>\n",
       "    <tr>\n",
       "      <th>0</th>\n",
       "      <td>9145</td>\n",
       "      <td>artistic-2.0</td>\n",
       "    </tr>\n",
       "    <tr>\n",
       "      <th>1</th>\n",
       "      <td>18191</td>\n",
       "      <td>isc</td>\n",
       "    </tr>\n",
       "  </tbody>\n",
       "</table>\n",
       "</div>"
      ],
      "text/plain": [
       "     f0_       license\n",
       "0   9145  artistic-2.0\n",
       "1  18191           isc"
      ]
     },
     "execution_count": 3,
     "metadata": {},
     "output_type": "execute_result"
    }
   ],
   "source": [
    "distinct_licenses.head(2)"
   ]
  },
  {
   "cell_type": "code",
   "execution_count": 4,
   "metadata": {},
   "outputs": [],
   "source": [
    "distinct_licenses.rename(columns={'f0_':'count'}, inplace=True)"
   ]
  },
  {
   "cell_type": "code",
   "execution_count": 5,
   "metadata": {},
   "outputs": [
    {
     "data": {
      "text/html": [
       "<div>\n",
       "<style>\n",
       "    .dataframe thead tr:only-child th {\n",
       "        text-align: right;\n",
       "    }\n",
       "\n",
       "    .dataframe thead th {\n",
       "        text-align: left;\n",
       "    }\n",
       "\n",
       "    .dataframe tbody tr th {\n",
       "        vertical-align: top;\n",
       "    }\n",
       "</style>\n",
       "<table border=\"1\" class=\"dataframe\">\n",
       "  <thead>\n",
       "    <tr style=\"text-align: right;\">\n",
       "      <th></th>\n",
       "      <th>count</th>\n",
       "      <th>license</th>\n",
       "    </tr>\n",
       "  </thead>\n",
       "  <tbody>\n",
       "    <tr>\n",
       "      <th>0</th>\n",
       "      <td>9145</td>\n",
       "      <td>artistic-2.0</td>\n",
       "    </tr>\n",
       "    <tr>\n",
       "      <th>1</th>\n",
       "      <td>18191</td>\n",
       "      <td>isc</td>\n",
       "    </tr>\n",
       "  </tbody>\n",
       "</table>\n",
       "</div>"
      ],
      "text/plain": [
       "   count       license\n",
       "0   9145  artistic-2.0\n",
       "1  18191           isc"
      ]
     },
     "execution_count": 5,
     "metadata": {},
     "output_type": "execute_result"
    }
   ],
   "source": [
    "distinct_licenses.head(2)"
   ]
  },
  {
   "cell_type": "code",
   "execution_count": 6,
   "metadata": {},
   "outputs": [],
   "source": [
    "distinct_licenses.sort_values('count', inplace=True, ascending=False)"
   ]
  },
  {
   "cell_type": "code",
   "execution_count": 7,
   "metadata": {},
   "outputs": [
    {
     "data": {
      "text/html": [
       "<div>\n",
       "<style>\n",
       "    .dataframe thead tr:only-child th {\n",
       "        text-align: right;\n",
       "    }\n",
       "\n",
       "    .dataframe thead th {\n",
       "        text-align: left;\n",
       "    }\n",
       "\n",
       "    .dataframe tbody tr th {\n",
       "        vertical-align: top;\n",
       "    }\n",
       "</style>\n",
       "<table border=\"1\" class=\"dataframe\">\n",
       "  <thead>\n",
       "    <tr style=\"text-align: right;\">\n",
       "      <th></th>\n",
       "      <th>count</th>\n",
       "      <th>license</th>\n",
       "    </tr>\n",
       "  </thead>\n",
       "  <tbody>\n",
       "    <tr>\n",
       "      <th>2</th>\n",
       "      <td>1695303</td>\n",
       "      <td>mit</td>\n",
       "    </tr>\n",
       "    <tr>\n",
       "      <th>12</th>\n",
       "      <td>491337</td>\n",
       "      <td>apache-2.0</td>\n",
       "    </tr>\n",
       "    <tr>\n",
       "      <th>5</th>\n",
       "      <td>364738</td>\n",
       "      <td>gpl-2.0</td>\n",
       "    </tr>\n",
       "    <tr>\n",
       "      <th>6</th>\n",
       "      <td>333865</td>\n",
       "      <td>gpl-3.0</td>\n",
       "    </tr>\n",
       "    <tr>\n",
       "      <th>14</th>\n",
       "      <td>163985</td>\n",
       "      <td>bsd-3-clause</td>\n",
       "    </tr>\n",
       "  </tbody>\n",
       "</table>\n",
       "</div>"
      ],
      "text/plain": [
       "      count       license\n",
       "2   1695303           mit\n",
       "12   491337    apache-2.0\n",
       "5    364738       gpl-2.0\n",
       "6    333865       gpl-3.0\n",
       "14   163985  bsd-3-clause"
      ]
     },
     "execution_count": 7,
     "metadata": {},
     "output_type": "execute_result"
    }
   ],
   "source": [
    "distinct_licenses.head()"
   ]
  },
  {
   "cell_type": "code",
   "execution_count": 9,
   "metadata": {},
   "outputs": [
    {
     "data": {
      "text/html": [
       "<div>\n",
       "<style>\n",
       "    .dataframe thead tr:only-child th {\n",
       "        text-align: right;\n",
       "    }\n",
       "\n",
       "    .dataframe thead th {\n",
       "        text-align: left;\n",
       "    }\n",
       "\n",
       "    .dataframe tbody tr th {\n",
       "        vertical-align: top;\n",
       "    }\n",
       "</style>\n",
       "<table border=\"1\" class=\"dataframe\">\n",
       "  <thead>\n",
       "    <tr style=\"text-align: right;\">\n",
       "      <th></th>\n",
       "      <th>count</th>\n",
       "      <th>license</th>\n",
       "    </tr>\n",
       "  </thead>\n",
       "  <tbody>\n",
       "    <tr>\n",
       "      <th>4</th>\n",
       "      <td>24875</td>\n",
       "      <td>epl-1.0</td>\n",
       "    </tr>\n",
       "    <tr>\n",
       "      <th>9</th>\n",
       "      <td>24114</td>\n",
       "      <td>lgpl-2.1</td>\n",
       "    </tr>\n",
       "    <tr>\n",
       "      <th>7</th>\n",
       "      <td>18905</td>\n",
       "      <td>mpl-2.0</td>\n",
       "    </tr>\n",
       "    <tr>\n",
       "      <th>1</th>\n",
       "      <td>18191</td>\n",
       "      <td>isc</td>\n",
       "    </tr>\n",
       "    <tr>\n",
       "      <th>0</th>\n",
       "      <td>9145</td>\n",
       "      <td>artistic-2.0</td>\n",
       "    </tr>\n",
       "  </tbody>\n",
       "</table>\n",
       "</div>"
      ],
      "text/plain": [
       "   count       license\n",
       "4  24875       epl-1.0\n",
       "9  24114      lgpl-2.1\n",
       "7  18905       mpl-2.0\n",
       "1  18191           isc\n",
       "0   9145  artistic-2.0"
      ]
     },
     "execution_count": 9,
     "metadata": {},
     "output_type": "execute_result"
    }
   ],
   "source": [
    "distinct_licenses.tail()"
   ]
  },
  {
   "cell_type": "code",
   "execution_count": 8,
   "metadata": {},
   "outputs": [
    {
     "data": {
      "text/plain": [
       "<matplotlib.axes._subplots.AxesSubplot at 0x7fc6e6b54790>"
      ]
     },
     "execution_count": 8,
     "metadata": {},
     "output_type": "execute_result"
    },
    {
     "data": {
      "image/png": "[encoded data removed]",
      "text/plain": [
       "<matplotlib.figure.Figure at 0x7fc6e68b9b10>"
      ]
     },
     "metadata": {},
     "output_type": "display_data"
    }
   ],
   "source": [
    "distinct_licenses.plot(x=\"license\",y=\"count\", kind=\"bar\", title=\"License by usage count\")"
   ]
  },
  {
   "cell_type": "code",
   "execution_count": 10,
   "metadata": {},
   "outputs": [
    {
     "data": {
      "text/plain": [
       "<matplotlib.axes._subplots.AxesSubplot at 0x7fc6e67175d0>"
      ]
     },
     "execution_count": 10,
     "metadata": {},
     "output_type": "execute_result"
    },
    {
     "data": {
      "image/png": "[encoded data removed]",
      "text/plain": [
       "<matplotlib.figure.Figure at 0x7fc6e68b9ad0>"
      ]
     },
     "metadata": {},
     "output_type": "display_data"
    }
   ],
   "source": [
    "distinct_licenses[:5].plot(y=\"count\", kind=\"pie\", title=\"Top 5 License by count\", autopct='%.1f',labels=distinct_licenses[\"license\"][:5])"
   ]
  },
  {
   "cell_type": "code",
   "execution_count": 11,
   "metadata": {},
   "outputs": [],
   "source": [
    "total_repo_count=3359866"
   ]
  },
  {
   "cell_type": "code",
   "execution_count": 12,
   "metadata": {},
   "outputs": [],
   "source": [
    "assert total_repo_count == sum(distinct_licenses['count'])"
   ]
  },
  {
   "cell_type": "code",
   "execution_count": 13,
   "metadata": {},
   "outputs": [],
   "source": [
    "distinct_licenses['percentage_usage']=distinct_licenses['count']/total_repo_count"
   ]
  },
  {
   "cell_type": "code",
   "execution_count": 14,
   "metadata": {},
   "outputs": [
    {
     "data": {
      "text/html": [
       "<div>\n",
       "<style>\n",
       "    .dataframe thead tr:only-child th {\n",
       "        text-align: right;\n",
       "    }\n",
       "\n",
       "    .dataframe thead th {\n",
       "        text-align: left;\n",
       "    }\n",
       "\n",
       "    .dataframe tbody tr th {\n",
       "        vertical-align: top;\n",
       "    }\n",
       "</style>\n",
       "<table border=\"1\" class=\"dataframe\">\n",
       "  <thead>\n",
       "    <tr style=\"text-align: right;\">\n",
       "      <th></th>\n",
       "      <th>count</th>\n",
       "      <th>license</th>\n",
       "      <th>percentage_usage</th>\n",
       "    </tr>\n",
       "  </thead>\n",
       "  <tbody>\n",
       "    <tr>\n",
       "      <th>2</th>\n",
       "      <td>1695303</td>\n",
       "      <td>mit</td>\n",
       "      <td>0.504575</td>\n",
       "    </tr>\n",
       "    <tr>\n",
       "      <th>12</th>\n",
       "      <td>491337</td>\n",
       "      <td>apache-2.0</td>\n",
       "      <td>0.146237</td>\n",
       "    </tr>\n",
       "    <tr>\n",
       "      <th>5</th>\n",
       "      <td>364738</td>\n",
       "      <td>gpl-2.0</td>\n",
       "      <td>0.108557</td>\n",
       "    </tr>\n",
       "    <tr>\n",
       "      <th>6</th>\n",
       "      <td>333865</td>\n",
       "      <td>gpl-3.0</td>\n",
       "      <td>0.099369</td>\n",
       "    </tr>\n",
       "    <tr>\n",
       "      <th>14</th>\n",
       "      <td>163985</td>\n",
       "      <td>bsd-3-clause</td>\n",
       "      <td>0.048807</td>\n",
       "    </tr>\n",
       "  </tbody>\n",
       "</table>\n",
       "</div>"
      ],
      "text/plain": [
       "      count       license  percentage_usage\n",
       "2   1695303           mit          0.504575\n",
       "12   491337    apache-2.0          0.146237\n",
       "5    364738       gpl-2.0          0.108557\n",
       "6    333865       gpl-3.0          0.099369\n",
       "14   163985  bsd-3-clause          0.048807"
      ]
     },
     "execution_count": 14,
     "metadata": {},
     "output_type": "execute_result"
    }
   ],
   "source": [
    "distinct_licenses.head()"
   ]
  },
  {
   "cell_type": "code",
   "execution_count": 15,
   "metadata": {},
   "outputs": [
    {
     "data": {
      "text/plain": [
       "['mit',\n",
       " 'apache-2.0',\n",
       " 'gpl-2.0',\n",
       " 'gpl-3.0',\n",
       " 'bsd-3-clause',\n",
       " 'bsd-2-clause',\n",
       " 'unlicense',\n",
       " 'agpl-3.0',\n",
       " 'lgpl-3.0',\n",
       " 'cc0-1.0',\n",
       " 'epl-1.0',\n",
       " 'lgpl-2.1',\n",
       " 'mpl-2.0',\n",
       " 'isc',\n",
       " 'artistic-2.0']"
      ]
     },
     "execution_count": 15,
     "metadata": {},
     "output_type": "execute_result"
    }
   ],
   "source": [
    "list(distinct_licenses['license'])"
   ]
  },
  {
   "cell_type": "code",
   "execution_count": 16,
   "metadata": {},
   "outputs": [],
   "source": [
    "license_family={}"
   ]
  },
  {
   "cell_type": "code",
   "execution_count": 17,
   "metadata": {},
   "outputs": [],
   "source": [
    "license_family['mit']=distinct_licenses.loc[distinct_licenses['license'] == 'mit', 'count'].iloc[0]\n",
    "license_family['unlicense']=distinct_licenses.loc[distinct_licenses['license'] == 'unlicense', 'count'].iloc[0]\n",
    "license_family['cc']=distinct_licenses.loc[distinct_licenses['license'] == 'cc0-1.0', 'count'].iloc[0]\n",
    "license_family['epl']=distinct_licenses.loc[distinct_licenses['license'] == 'epl-1.0', 'count'].iloc[0]\n",
    "license_family['mpl']=distinct_licenses.loc[distinct_licenses['license'] == 'mpl-2.0', 'count'].iloc[0]\n",
    "license_family['isc']=distinct_licenses.loc[distinct_licenses['license'] == 'isc', 'count'].iloc[0]\n",
    "license_family['artistic']=distinct_licenses.loc[distinct_licenses['license'] == 'artistic-2.0', 'count'].iloc[0]\n",
    "license_family['apache']=distinct_licenses.loc[distinct_licenses['license'] == 'apache-2.0', 'count'].iloc[0]"
   ]
  },
  {
   "cell_type": "code",
   "execution_count": 18,
   "metadata": {},
   "outputs": [],
   "source": [
    "license_family['gnu']={}\n",
    "license_family['gnu']['gpl']=distinct_licenses.loc[distinct_licenses['license'] == 'gpl-2.0','count'].iloc[0] +distinct_licenses.loc[distinct_licenses['license'] == 'gpl-3.0','count'].iloc[0]\n",
    "license_family['gnu']['agpl']=distinct_licenses.loc[distinct_licenses['license'] == 'agpl-3.0','count'].iloc[0]\n",
    "license_family['gnu']['lgpl']=distinct_licenses.loc[distinct_licenses['license'] == 'lgpl-2.1','count'].iloc[0] +distinct_licenses.loc[distinct_licenses['license'] == 'lgpl-3.0','count'].iloc[0]"
   ]
  },
  {
   "cell_type": "code",
   "execution_count": 19,
   "metadata": {},
   "outputs": [],
   "source": [
    "license_family['bds']=distinct_licenses.loc[distinct_licenses['license'] == 'bsd-3-clause','count'].iloc[0] +distinct_licenses.loc[distinct_licenses['license'] == 'bsd-2-clause','count'].iloc[0]"
   ]
  },
  {
   "cell_type": "code",
   "execution_count": 20,
   "metadata": {},
   "outputs": [
    {
     "data": {
      "text/plain": [
       "{'apache': 491337,\n",
       " 'artistic': 9145,\n",
       " 'bds': 222303,\n",
       " 'cc': 28269,\n",
       " 'epl': 24875,\n",
       " 'gnu': {'agpl': 41860, 'gpl': 698603, 'lgpl': 64267},\n",
       " 'isc': 18191,\n",
       " 'mit': 1695303,\n",
       " 'mpl': 18905,\n",
       " 'unlicense': 46808}"
      ]
     },
     "execution_count": 20,
     "metadata": {},
     "output_type": "execute_result"
    }
   ],
   "source": [
    "license_family"
   ]
  },
  {
   "cell_type": "code",
   "execution_count": 21,
   "metadata": {},
   "outputs": [],
   "source": [
    "def dict_license_sum(dict_,sum_):\n",
    "    for value in dict_.values():\n",
    "        if type(value)==dict:\n",
    "            sum_ += dict_sum(value,0)\n",
    "        else:\n",
    "            sum_+= value\n",
    "    return sum_        "
   ]
  },
  {
   "cell_type": "code",
   "execution_count": 22,
   "metadata": {},
   "outputs": [],
   "source": [
    "sum_=dict_license_sum(license_family['gnu'],0)"
   ]
  },
  {
   "cell_type": "code",
   "execution_count": 23,
   "metadata": {},
   "outputs": [],
   "source": [
    "assert sum_ == 698603+64267+41860"
   ]
  },
  {
   "cell_type": "code",
   "execution_count": 24,
   "metadata": {},
   "outputs": [],
   "source": [
    "license_family['gnu']=sum_"
   ]
  },
  {
   "cell_type": "code",
   "execution_count": 25,
   "metadata": {},
   "outputs": [
    {
     "data": {
      "text/plain": [
       "{'apache': 491337,\n",
       " 'artistic': 9145,\n",
       " 'bds': 222303,\n",
       " 'cc': 28269,\n",
       " 'epl': 24875,\n",
       " 'gnu': 804730,\n",
       " 'isc': 18191,\n",
       " 'mit': 1695303,\n",
       " 'mpl': 18905,\n",
       " 'unlicense': 46808}"
      ]
     },
     "execution_count": 25,
     "metadata": {},
     "output_type": "execute_result"
    }
   ],
   "source": [
    "license_family"
   ]
  },
  {
   "cell_type": "code",
   "execution_count": 26,
   "metadata": {},
   "outputs": [],
   "source": [
    "license_family=pd.DataFrame(license_family.items(), columns=['license_family','aggregate_count'])"
   ]
  },
  {
   "cell_type": "code",
   "execution_count": 27,
   "metadata": {},
   "outputs": [],
   "source": [
    "license_family.sort_values('aggregate_count', inplace=True, ascending=False)"
   ]
  },
  {
   "cell_type": "code",
   "execution_count": 28,
   "metadata": {},
   "outputs": [
    {
     "data": {
      "text/html": [
       "<div>\n",
       "<style>\n",
       "    .dataframe thead tr:only-child th {\n",
       "        text-align: right;\n",
       "    }\n",
       "\n",
       "    .dataframe thead th {\n",
       "        text-align: left;\n",
       "    }\n",
       "\n",
       "    .dataframe tbody tr th {\n",
       "        vertical-align: top;\n",
       "    }\n",
       "</style>\n",
       "<table border=\"1\" class=\"dataframe\">\n",
       "  <thead>\n",
       "    <tr style=\"text-align: right;\">\n",
       "      <th></th>\n",
       "      <th>license_family</th>\n",
       "      <th>aggregate_count</th>\n",
       "    </tr>\n",
       "  </thead>\n",
       "  <tbody>\n",
       "    <tr>\n",
       "      <th>9</th>\n",
       "      <td>mit</td>\n",
       "      <td>1695303</td>\n",
       "    </tr>\n",
       "    <tr>\n",
       "      <th>0</th>\n",
       "      <td>gnu</td>\n",
       "      <td>804730</td>\n",
       "    </tr>\n",
       "    <tr>\n",
       "      <th>4</th>\n",
       "      <td>apache</td>\n",
       "      <td>491337</td>\n",
       "    </tr>\n",
       "    <tr>\n",
       "      <th>7</th>\n",
       "      <td>bds</td>\n",
       "      <td>222303</td>\n",
       "    </tr>\n",
       "    <tr>\n",
       "      <th>3</th>\n",
       "      <td>unlicense</td>\n",
       "      <td>46808</td>\n",
       "    </tr>\n",
       "    <tr>\n",
       "      <th>1</th>\n",
       "      <td>cc</td>\n",
       "      <td>28269</td>\n",
       "    </tr>\n",
       "    <tr>\n",
       "      <th>5</th>\n",
       "      <td>epl</td>\n",
       "      <td>24875</td>\n",
       "    </tr>\n",
       "    <tr>\n",
       "      <th>2</th>\n",
       "      <td>mpl</td>\n",
       "      <td>18905</td>\n",
       "    </tr>\n",
       "    <tr>\n",
       "      <th>8</th>\n",
       "      <td>isc</td>\n",
       "      <td>18191</td>\n",
       "    </tr>\n",
       "    <tr>\n",
       "      <th>6</th>\n",
       "      <td>artistic</td>\n",
       "      <td>9145</td>\n",
       "    </tr>\n",
       "  </tbody>\n",
       "</table>\n",
       "</div>"
      ],
      "text/plain": [
       "  license_family  aggregate_count\n",
       "9            mit          1695303\n",
       "0            gnu           804730\n",
       "4         apache           491337\n",
       "7            bds           222303\n",
       "3      unlicense            46808\n",
       "1             cc            28269\n",
       "5            epl            24875\n",
       "2            mpl            18905\n",
       "8            isc            18191\n",
       "6       artistic             9145"
      ]
     },
     "execution_count": 28,
     "metadata": {},
     "output_type": "execute_result"
    }
   ],
   "source": [
    "license_family"
   ]
  },
  {
   "cell_type": "code",
   "execution_count": 29,
   "metadata": {},
   "outputs": [
    {
     "data": {
      "text/plain": [
       "<matplotlib.axes._subplots.AxesSubplot at 0x7fc71c368f50>"
      ]
     },
     "execution_count": 29,
     "metadata": {},
     "output_type": "execute_result"
    },
    {
     "data": {
      "image/png": "[encoded data removed]",
      "text/plain": [
       "<matplotlib.figure.Figure at 0x7fc6e2ed1210>"
      ]
     },
     "metadata": {},
     "output_type": "display_data"
    }
   ],
   "source": [
    "license_family[:5].plot(y=\"aggregate_count\", kind=\"pie\", title=\" Top 5 License Family\", autopct='%.1f',labels=license_family[\"license_family\"][:5])"
   ]
  },
  {
   "cell_type": "code",
   "execution_count": 30,
   "metadata": {},
   "outputs": [],
   "source": [
    "##part2"
   ]
  },
  {
   "cell_type": "code",
   "execution_count": 31,
   "metadata": {},
   "outputs": [],
   "source": [
    "lang_license = pd.read_csv(\"all_top_lang.csv\")"
   ]
  },
  {
   "cell_type": "code",
   "execution_count": 32,
   "metadata": {},
   "outputs": [
    {
     "data": {
      "text/html": [
       "<div>\n",
       "<style>\n",
       "    .dataframe thead tr:only-child th {\n",
       "        text-align: right;\n",
       "    }\n",
       "\n",
       "    .dataframe thead th {\n",
       "        text-align: left;\n",
       "    }\n",
       "\n",
       "    .dataframe tbody tr th {\n",
       "        vertical-align: top;\n",
       "    }\n",
       "</style>\n",
       "<table border=\"1\" class=\"dataframe\">\n",
       "  <thead>\n",
       "    <tr style=\"text-align: right;\">\n",
       "      <th></th>\n",
       "      <th>aggregate_count</th>\n",
       "      <th>license</th>\n",
       "      <th>language_name</th>\n",
       "    </tr>\n",
       "  </thead>\n",
       "  <tbody>\n",
       "    <tr>\n",
       "      <th>0</th>\n",
       "      <td>279</td>\n",
       "      <td>isc</td>\n",
       "      <td>TypeScript</td>\n",
       "    </tr>\n",
       "    <tr>\n",
       "      <th>1</th>\n",
       "      <td>20</td>\n",
       "      <td>artistic-2.0</td>\n",
       "      <td>TypeScript</td>\n",
       "    </tr>\n",
       "    <tr>\n",
       "      <th>2</th>\n",
       "      <td>78</td>\n",
       "      <td>isc</td>\n",
       "      <td>Swift</td>\n",
       "    </tr>\n",
       "    <tr>\n",
       "      <th>3</th>\n",
       "      <td>40</td>\n",
       "      <td>isc</td>\n",
       "      <td>Scala</td>\n",
       "    </tr>\n",
       "    <tr>\n",
       "      <th>4</th>\n",
       "      <td>51</td>\n",
       "      <td>artistic-2.0</td>\n",
       "      <td>Scala</td>\n",
       "    </tr>\n",
       "  </tbody>\n",
       "</table>\n",
       "</div>"
      ],
      "text/plain": [
       "   aggregate_count       license language_name\n",
       "0              279           isc    TypeScript\n",
       "1               20  artistic-2.0    TypeScript\n",
       "2               78           isc         Swift\n",
       "3               40           isc         Scala\n",
       "4               51  artistic-2.0         Scala"
      ]
     },
     "execution_count": 32,
     "metadata": {},
     "output_type": "execute_result"
    }
   ],
   "source": [
    "lang_license.head()"
   ]
  },
  {
   "cell_type": "code",
   "execution_count": 33,
   "metadata": {},
   "outputs": [],
   "source": [
    "lang_license['count_max']=lang_license.groupby(['language_name'], sort=False)['aggregate_count'].transform('max')"
   ]
  },
  {
   "cell_type": "code",
   "execution_count": 34,
   "metadata": {},
   "outputs": [
    {
     "data": {
      "text/html": [
       "<div>\n",
       "<style>\n",
       "    .dataframe thead tr:only-child th {\n",
       "        text-align: right;\n",
       "    }\n",
       "\n",
       "    .dataframe thead th {\n",
       "        text-align: left;\n",
       "    }\n",
       "\n",
       "    .dataframe tbody tr th {\n",
       "        vertical-align: top;\n",
       "    }\n",
       "</style>\n",
       "<table border=\"1\" class=\"dataframe\">\n",
       "  <thead>\n",
       "    <tr style=\"text-align: right;\">\n",
       "      <th></th>\n",
       "      <th>aggregate_count</th>\n",
       "      <th>license</th>\n",
       "      <th>language_name</th>\n",
       "      <th>count_max</th>\n",
       "    </tr>\n",
       "  </thead>\n",
       "  <tbody>\n",
       "    <tr>\n",
       "      <th>28</th>\n",
       "      <td>31117</td>\n",
       "      <td>mit</td>\n",
       "      <td>Swift</td>\n",
       "      <td>31117</td>\n",
       "    </tr>\n",
       "    <tr>\n",
       "      <th>29</th>\n",
       "      <td>27035</td>\n",
       "      <td>mit</td>\n",
       "      <td>TypeScript</td>\n",
       "      <td>27035</td>\n",
       "    </tr>\n",
       "    <tr>\n",
       "      <th>31</th>\n",
       "      <td>83499</td>\n",
       "      <td>mit</td>\n",
       "      <td>C</td>\n",
       "      <td>83499</td>\n",
       "    </tr>\n",
       "    <tr>\n",
       "      <th>32</th>\n",
       "      <td>69958</td>\n",
       "      <td>mit</td>\n",
       "      <td>C#</td>\n",
       "      <td>69958</td>\n",
       "    </tr>\n",
       "    <tr>\n",
       "      <th>33</th>\n",
       "      <td>43187</td>\n",
       "      <td>mit</td>\n",
       "      <td>Go</td>\n",
       "      <td>43187</td>\n",
       "    </tr>\n",
       "    <tr>\n",
       "      <th>34</th>\n",
       "      <td>81935</td>\n",
       "      <td>mit</td>\n",
       "      <td>C++</td>\n",
       "      <td>81935</td>\n",
       "    </tr>\n",
       "    <tr>\n",
       "      <th>35</th>\n",
       "      <td>162346</td>\n",
       "      <td>mit</td>\n",
       "      <td>PHP</td>\n",
       "      <td>162346</td>\n",
       "    </tr>\n",
       "    <tr>\n",
       "      <th>37</th>\n",
       "      <td>270535</td>\n",
       "      <td>mit</td>\n",
       "      <td>Ruby</td>\n",
       "      <td>270535</td>\n",
       "    </tr>\n",
       "    <tr>\n",
       "      <th>38</th>\n",
       "      <td>241283</td>\n",
       "      <td>mit</td>\n",
       "      <td>Shell</td>\n",
       "      <td>241283</td>\n",
       "    </tr>\n",
       "    <tr>\n",
       "      <th>39</th>\n",
       "      <td>201001</td>\n",
       "      <td>mit</td>\n",
       "      <td>Python</td>\n",
       "      <td>201001</td>\n",
       "    </tr>\n",
       "    <tr>\n",
       "      <th>40</th>\n",
       "      <td>680378</td>\n",
       "      <td>mit</td>\n",
       "      <td>JavaScript</td>\n",
       "      <td>680378</td>\n",
       "    </tr>\n",
       "    <tr>\n",
       "      <th>41</th>\n",
       "      <td>87199</td>\n",
       "      <td>mit</td>\n",
       "      <td>Objective-C</td>\n",
       "      <td>87199</td>\n",
       "    </tr>\n",
       "    <tr>\n",
       "      <th>169</th>\n",
       "      <td>13555</td>\n",
       "      <td>apache-2.0</td>\n",
       "      <td>Scala</td>\n",
       "      <td>13555</td>\n",
       "    </tr>\n",
       "    <tr>\n",
       "      <th>176</th>\n",
       "      <td>147377</td>\n",
       "      <td>apache-2.0</td>\n",
       "      <td>Java</td>\n",
       "      <td>147377</td>\n",
       "    </tr>\n",
       "  </tbody>\n",
       "</table>\n",
       "</div>"
      ],
      "text/plain": [
       "     aggregate_count     license language_name  count_max\n",
       "28             31117         mit         Swift      31117\n",
       "29             27035         mit    TypeScript      27035\n",
       "31             83499         mit             C      83499\n",
       "32             69958         mit            C#      69958\n",
       "33             43187         mit            Go      43187\n",
       "34             81935         mit           C++      81935\n",
       "35            162346         mit           PHP     162346\n",
       "37            270535         mit          Ruby     270535\n",
       "38            241283         mit         Shell     241283\n",
       "39            201001         mit        Python     201001\n",
       "40            680378         mit    JavaScript     680378\n",
       "41             87199         mit   Objective-C      87199\n",
       "169            13555  apache-2.0         Scala      13555\n",
       "176           147377  apache-2.0          Java     147377"
      ]
     },
     "execution_count": 34,
     "metadata": {},
     "output_type": "execute_result"
    }
   ],
   "source": [
    "lang_license[lang_license.aggregate_count == lang_license.count_max]"
   ]
  },
  {
   "cell_type": "code",
   "execution_count": 36,
   "metadata": {},
   "outputs": [
    {
     "data": {
      "text/html": [
       "<div>\n",
       "<style>\n",
       "    .dataframe thead tr:only-child th {\n",
       "        text-align: right;\n",
       "    }\n",
       "\n",
       "    .dataframe thead th {\n",
       "        text-align: left;\n",
       "    }\n",
       "\n",
       "    .dataframe tbody tr th {\n",
       "        vertical-align: top;\n",
       "    }\n",
       "</style>\n",
       "<table border=\"1\" class=\"dataframe\">\n",
       "  <thead>\n",
       "    <tr style=\"text-align: right;\">\n",
       "      <th></th>\n",
       "      <th>aggregate_count</th>\n",
       "      <th>license</th>\n",
       "      <th>language_name</th>\n",
       "      <th>count_max</th>\n",
       "      <th>count_min</th>\n",
       "    </tr>\n",
       "  </thead>\n",
       "  <tbody>\n",
       "    <tr>\n",
       "      <th>1</th>\n",
       "      <td>20</td>\n",
       "      <td>artistic-2.0</td>\n",
       "      <td>TypeScript</td>\n",
       "      <td>27035</td>\n",
       "      <td>20</td>\n",
       "    </tr>\n",
       "    <tr>\n",
       "      <th>3</th>\n",
       "      <td>40</td>\n",
       "      <td>isc</td>\n",
       "      <td>Scala</td>\n",
       "      <td>13555</td>\n",
       "      <td>40</td>\n",
       "    </tr>\n",
       "    <tr>\n",
       "      <th>7</th>\n",
       "      <td>477</td>\n",
       "      <td>artistic-2.0</td>\n",
       "      <td>C</td>\n",
       "      <td>83499</td>\n",
       "      <td>477</td>\n",
       "    </tr>\n",
       "    <tr>\n",
       "      <th>8</th>\n",
       "      <td>210</td>\n",
       "      <td>artistic-2.0</td>\n",
       "      <td>C#</td>\n",
       "      <td>69958</td>\n",
       "      <td>210</td>\n",
       "    </tr>\n",
       "    <tr>\n",
       "      <th>11</th>\n",
       "      <td>50</td>\n",
       "      <td>artistic-2.0</td>\n",
       "      <td>Go</td>\n",
       "      <td>43187</td>\n",
       "      <td>50</td>\n",
       "    </tr>\n",
       "    <tr>\n",
       "      <th>13</th>\n",
       "      <td>402</td>\n",
       "      <td>artistic-2.0</td>\n",
       "      <td>C++</td>\n",
       "      <td>81935</td>\n",
       "      <td>402</td>\n",
       "    </tr>\n",
       "    <tr>\n",
       "      <th>16</th>\n",
       "      <td>571</td>\n",
       "      <td>artistic-2.0</td>\n",
       "      <td>Java</td>\n",
       "      <td>147377</td>\n",
       "      <td>571</td>\n",
       "    </tr>\n",
       "    <tr>\n",
       "      <th>19</th>\n",
       "      <td>278</td>\n",
       "      <td>artistic-2.0</td>\n",
       "      <td>Ruby</td>\n",
       "      <td>270535</td>\n",
       "      <td>278</td>\n",
       "    </tr>\n",
       "    <tr>\n",
       "      <th>20</th>\n",
       "      <td>918</td>\n",
       "      <td>artistic-2.0</td>\n",
       "      <td>Shell</td>\n",
       "      <td>241283</td>\n",
       "      <td>918</td>\n",
       "    </tr>\n",
       "    <tr>\n",
       "      <th>23</th>\n",
       "      <td>605</td>\n",
       "      <td>artistic-2.0</td>\n",
       "      <td>Python</td>\n",
       "      <td>201001</td>\n",
       "      <td>605</td>\n",
       "    </tr>\n",
       "    <tr>\n",
       "      <th>25</th>\n",
       "      <td>1364</td>\n",
       "      <td>artistic-2.0</td>\n",
       "      <td>JavaScript</td>\n",
       "      <td>680378</td>\n",
       "      <td>1364</td>\n",
       "    </tr>\n",
       "    <tr>\n",
       "      <th>26</th>\n",
       "      <td>170</td>\n",
       "      <td>artistic-2.0</td>\n",
       "      <td>Objective-C</td>\n",
       "      <td>87199</td>\n",
       "      <td>170</td>\n",
       "    </tr>\n",
       "    <tr>\n",
       "      <th>63</th>\n",
       "      <td>246</td>\n",
       "      <td>epl-1.0</td>\n",
       "      <td>PHP</td>\n",
       "      <td>162346</td>\n",
       "      <td>246</td>\n",
       "    </tr>\n",
       "    <tr>\n",
       "      <th>128</th>\n",
       "      <td>24</td>\n",
       "      <td>lgpl-2.1</td>\n",
       "      <td>Swift</td>\n",
       "      <td>31117</td>\n",
       "      <td>24</td>\n",
       "    </tr>\n",
       "  </tbody>\n",
       "</table>\n",
       "</div>"
      ],
      "text/plain": [
       "     aggregate_count       license language_name  count_max  count_min\n",
       "1                 20  artistic-2.0    TypeScript      27035         20\n",
       "3                 40           isc         Scala      13555         40\n",
       "7                477  artistic-2.0             C      83499        477\n",
       "8                210  artistic-2.0            C#      69958        210\n",
       "11                50  artistic-2.0            Go      43187         50\n",
       "13               402  artistic-2.0           C++      81935        402\n",
       "16               571  artistic-2.0          Java     147377        571\n",
       "19               278  artistic-2.0          Ruby     270535        278\n",
       "20               918  artistic-2.0         Shell     241283        918\n",
       "23               605  artistic-2.0        Python     201001        605\n",
       "25              1364  artistic-2.0    JavaScript     680378       1364\n",
       "26               170  artistic-2.0   Objective-C      87199        170\n",
       "63               246       epl-1.0           PHP     162346        246\n",
       "128               24      lgpl-2.1         Swift      31117         24"
      ]
     },
     "execution_count": 36,
     "metadata": {},
     "output_type": "execute_result"
    }
   ],
   "source": [
    "lang_license['count_min']=lang_license.groupby(['language_name'], sort=False)['aggregate_count'].transform('min')\n",
    "lang_license[lang_license.aggregate_count == lang_license.count_min]"
   ]
  }
 ],
 "metadata": {
  "kernelspec": {
   "display_name": "Python 2",
   "language": "python",
   "name": "python2"
  },
  "language_info": {
   "codemirror_mode": {
    "name": "ipython",
    "version": 2
   },
   "file_extension": ".py",
   "mimetype": "text/x-python",
   "name": "python",
   "nbconvert_exporter": "python",
   "pygments_lexer": "ipython2",
   "version": "2.7.14"
  }
 },
 "nbformat": 4,
 "nbformat_minor": 2
}
